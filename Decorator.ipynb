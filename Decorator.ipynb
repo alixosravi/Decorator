{
  "nbformat": 4,
  "nbformat_minor": 0,
  "metadata": {
    "colab": {
      "provenance": []
    },
    "kernelspec": {
      "name": "python3",
      "display_name": "Python 3"
    },
    "language_info": {
      "name": "python"
    }
  },
  "cells": [
    {
      "cell_type": "code",
      "execution_count": 3,
      "metadata": {
        "id": "_DudBAobUgPS"
      },
      "outputs": [],
      "source": [
        "def say_hello(name):\n",
        "  print(f\"Hello {name}\")\n",
        "\n",
        "def good_morning(name):\n",
        "  print(f\"Good morning {name}\")\n",
        "\n",
        "def greet_ali(func):\n",
        "  return func(\"Ali\")"
      ]
    },
    {
      "cell_type": "code",
      "source": [
        "greet_ali(say_hello)"
      ],
      "metadata": {
        "colab": {
          "base_uri": "https://localhost:8080/"
        },
        "id": "MxFHPigzStut",
        "outputId": "72bef5b6-4073-48fc-8b18-5f8ab5fdf973"
      },
      "execution_count": 5,
      "outputs": [
        {
          "output_type": "stream",
          "name": "stdout",
          "text": [
            "Hello Ali\n"
          ]
        }
      ]
    },
    {
      "cell_type": "code",
      "source": [
        "def parent():\n",
        "  print(\"printing from parent\")\n",
        "\n",
        "  def child_1():\n",
        "    print(\"printing from child_1\")\n",
        "\n",
        "  def child_2():\n",
        "    print(\"printing from child_2\")\n",
        "\n",
        "  child_1()\n",
        "  child_2()"
      ],
      "metadata": {
        "id": "1ohBcwoOSzrn"
      },
      "execution_count": 8,
      "outputs": []
    },
    {
      "cell_type": "code",
      "source": [
        "parent()"
      ],
      "metadata": {
        "colab": {
          "base_uri": "https://localhost:8080/"
        },
        "id": "SPqeOvhYUFfz",
        "outputId": "fd7336ff-c75f-43b9-b33c-d77810915d0b"
      },
      "execution_count": 9,
      "outputs": [
        {
          "output_type": "stream",
          "name": "stdout",
          "text": [
            "printing from parent\n",
            "printing from child_1\n",
            "printing from child_2\n"
          ]
        }
      ]
    },
    {
      "cell_type": "code",
      "source": [
        "def parent(num):\n",
        "  \n",
        "  def child_1():\n",
        "    print(\"I'm Dlnia\")\n",
        "\n",
        "  def child_2():\n",
        "    print(\"I'm Ali\")\n",
        "  if num == 1:\n",
        "    return child_1\n",
        "  else:\n",
        "    return child_2\n"
      ],
      "metadata": {
        "id": "p3z-PePrUHGV"
      },
      "execution_count": 17,
      "outputs": []
    },
    {
      "cell_type": "code",
      "source": [
        "first = parent(1)\n",
        "second = parent(2)"
      ],
      "metadata": {
        "id": "4VVpw4cjVSK1"
      },
      "execution_count": 18,
      "outputs": []
    },
    {
      "cell_type": "code",
      "source": [
        "first()"
      ],
      "metadata": {
        "colab": {
          "base_uri": "https://localhost:8080/"
        },
        "id": "20XD9YaQVsU8",
        "outputId": "54876922-0671-4886-bbf4-eeb317a3d269"
      },
      "execution_count": 19,
      "outputs": [
        {
          "output_type": "stream",
          "name": "stdout",
          "text": [
            "I'm Dlnia\n"
          ]
        }
      ]
    },
    {
      "cell_type": "code",
      "source": [
        "second()"
      ],
      "metadata": {
        "colab": {
          "base_uri": "https://localhost:8080/"
        },
        "id": "bd5t_PqrVtyM",
        "outputId": "ba01e959-8142-418a-af35-59217346c0c7"
      },
      "execution_count": 13,
      "outputs": [
        {
          "output_type": "stream",
          "name": "stdout",
          "text": [
            "I'm Ali\n"
          ]
        }
      ]
    },
    {
      "cell_type": "code",
      "source": [
        "def my_decorator(func):\n",
        "\n",
        "  def wrapper():\n",
        "    print(\"Something is happening before the function is called.\")\n",
        "    func()\n",
        "    print(\"Something is happening after the function called.\")\n",
        "\n",
        "  return wrapper\n",
        "\n",
        "def say_hi():\n",
        "  print(\"Hi\")\n",
        "\n",
        "say_hi_2 = my_decorator(say_hi)"
      ],
      "metadata": {
        "id": "iaPfBbY0VxsF"
      },
      "execution_count": 22,
      "outputs": []
    },
    {
      "cell_type": "code",
      "source": [
        "say_hi_2()"
      ],
      "metadata": {
        "colab": {
          "base_uri": "https://localhost:8080/"
        },
        "id": "CgxatnqEXY6X",
        "outputId": "919f8c56-26a7-410a-cd61-7945dd852e69"
      },
      "execution_count": 24,
      "outputs": [
        {
          "output_type": "stream",
          "name": "stdout",
          "text": [
            "Something is happening before the function is called.\n",
            "Hi\n",
            "Something is happening after the function called.\n"
          ]
        }
      ]
    },
    {
      "cell_type": "code",
      "source": [
        "from datetime import datetime\n",
        "datetime.now().hour"
      ],
      "metadata": {
        "colab": {
          "base_uri": "https://localhost:8080/"
        },
        "id": "lPD5olYkZJSx",
        "outputId": "a6267d0a-6dca-4c1d-e241-c28675b57c9e"
      },
      "execution_count": 26,
      "outputs": [
        {
          "output_type": "execute_result",
          "data": {
            "text/plain": [
              "11"
            ]
          },
          "metadata": {},
          "execution_count": 26
        }
      ]
    },
    {
      "cell_type": "code",
      "source": [
        "from datetime import datetime\n",
        "def not_during_the_night(func):\n",
        "\n",
        "  def wrapper():\n",
        "    if 7 <= datetime.now().hour >= 22:\n",
        "       func()\n",
        "    else:\n",
        "       print(\"It's time to sleep!\")\n",
        "  return wrapper \n"
      ],
      "metadata": {
        "id": "f82wsgb0X82a"
      },
      "execution_count": 31,
      "outputs": []
    },
    {
      "cell_type": "code",
      "source": [
        "say_hi_working_or_not_working = not_during_the_night(say_hi)\n",
        "\n",
        "say_hi_working_or_not_working()"
      ],
      "metadata": {
        "colab": {
          "base_uri": "https://localhost:8080/"
        },
        "id": "twYSS9QjcY3e",
        "outputId": "3e012a9d-1a16-4d9a-a197-a1f6060988c0"
      },
      "execution_count": 32,
      "outputs": [
        {
          "output_type": "stream",
          "name": "stdout",
          "text": [
            "It's time to sleep!\n"
          ]
        }
      ]
    },
    {
      "cell_type": "code",
      "source": [
        "@ not_during_the_night\n",
        "def say_hi():\n",
        "  print(\"Hi\")"
      ],
      "metadata": {
        "id": "vxQYZt1Sc0R9"
      },
      "execution_count": 33,
      "outputs": []
    },
    {
      "cell_type": "code",
      "source": [
        "say_hi()"
      ],
      "metadata": {
        "colab": {
          "base_uri": "https://localhost:8080/"
        },
        "id": "ynjre9awd2g5",
        "outputId": "2aeffb30-ef73-4494-926c-a6ba7e19f30f"
      },
      "execution_count": 34,
      "outputs": [
        {
          "output_type": "stream",
          "name": "stdout",
          "text": [
            "It's time to sleep!\n"
          ]
        }
      ]
    },
    {
      "cell_type": "code",
      "source": [],
      "metadata": {
        "id": "eMzbl1xed4Yx"
      },
      "execution_count": null,
      "outputs": []
    }
  ]
}